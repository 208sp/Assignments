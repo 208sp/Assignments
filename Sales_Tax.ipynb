{
  "nbformat": 4,
  "nbformat_minor": 0,
  "metadata": {
    "colab": {
      "name": "Sales_Tax.ipynb",
      "provenance": [],
      "authorship_tag": "ABX9TyNepwlE1BDkHfhPtISrr4f2",
      "include_colab_link": true
    },
    "kernelspec": {
      "name": "python3",
      "display_name": "Python 3"
    },
    "language_info": {
      "name": "python"
    }
  },
  "cells": [
    {
      "cell_type": "markdown",
      "metadata": {
        "id": "view-in-github",
        "colab_type": "text"
      },
      "source": [
        "<a href=\"https://colab.research.google.com/github/208sp/Assignments/blob/main/Sales_Tax.ipynb\" target=\"_parent\"><img src=\"https://colab.research.google.com/assets/colab-badge.svg\" alt=\"Open In Colab\"/></a>"
      ]
    },
    {
      "cell_type": "code",
      "execution_count": 14,
      "metadata": {
        "colab": {
          "base_uri": "https://localhost:8080/"
        },
        "id": "BS2OfGeECfRH",
        "outputId": "852d510b-f234-4b2d-fec6-f0a1d0082585"
      },
      "outputs": [
        {
          "output_type": "stream",
          "name": "stdout",
          "text": [
            "1 imported bottle of perfume at 27.99\n",
            "1 bottle of perfume at 18.99\n",
            "1 packet of headache pills at 9.75\n",
            "1 box of imported chocolates at 11.25\n",
            "\n",
            "1 imported bottle of perfume at 32.2\n",
            "1 bottle of perfume at 20.9\n",
            "1 packet of headache pills at 10.75\n",
            "1 box of imported chocolates at 12.95\n",
            "Sales Taxes: 8.77\n",
            "Total: 76.75\n"
          ]
        }
      ],
      "source": [
        "from math import ceil\n",
        "def salesTax(itemList):\n",
        "    \n",
        "    extempGoods = ['books', 'food', 'meds']\n",
        "    \n",
        "    finalOutList = []\n",
        "    finalPrice =[]\n",
        "    oldSum = 0\n",
        "    newSum = 0\n",
        "    rnd = 20\n",
        "    \n",
        "    for items in itemList:\n",
        "        tempListItem = items.split()\n",
        "        \n",
        "        tempListItem = [x.replace(' ','') for x in tempListItem]\n",
        "        \n",
        "        \n",
        "        exemptFlag = False\n",
        "        \n",
        "        for item in tempListItem:\n",
        "            if item in extempGoods:\n",
        "                exemptFlag = True\n",
        "                \n",
        "        \n",
        "        if exemptFlag:\n",
        "            oldSum += float(tempListItem[-1])\n",
        "            priceOfOne = float(tempListItem[-1])/float(tempListItem[0])\n",
        "            \n",
        "            newPrice = (float(tempListItem[-1]) * 0.05)+float(tempListItem[-1])\n",
        "            \n",
        "            newPrice = newPrice * float(tempListItem[0])\n",
        "            newPrice = ceil(round(newPrice, 2) * rnd) / rnd\n",
        "            newSum += newPrice\n",
        "            tempstr = ' '.join(tempListItem[:-1])\n",
        "            print( tempstr+' ' + str(newPrice))\n",
        "            finalPrice.append(newPrice)\n",
        "        else:\n",
        "            if 'imported' in tempListItem:\n",
        "                oldSum += float(tempListItem[-1])\n",
        "                priceOfOne = float(tempListItem[-1])/float(tempListItem[0])\n",
        "                \n",
        "                newPrice = (float(priceOfOne) * 0.15)+float(priceOfOne)\n",
        "                \n",
        "                newPrice = newPrice * float(tempListItem[0])\n",
        "                newSum += newPrice\n",
        "                newPrice = ceil(round(newPrice, 2) * rnd) / rnd\n",
        "                tempstr = ' '.join(tempListItem[:-1])\n",
        "                print( tempstr+' ' + str(newPrice))\n",
        "                finalPrice.append(newPrice)\n",
        "            else:\n",
        "                oldSum += float(tempListItem[-1])\n",
        "                priceOfOne = float(tempListItem[-1])/float(tempListItem[0])\n",
        "                \n",
        "                newPrice = (float(priceOfOne) * 0.10)+float(tempListItem[-1])\n",
        "                \n",
        "                newPrice = newPrice * float(tempListItem[0])\n",
        "                newSum += newPrice\n",
        "                newPrice = ceil(round(newPrice, 2) * rnd) / rnd\n",
        "                tempstr = ' '.join(tempListItem[:-1])\n",
        "                print( tempstr+' ' + str(newPrice))\n",
        "                finalPrice.append(newPrice)\n",
        "                \n",
        "                \n",
        "            \n",
        "    \n",
        "         \n",
        "    #print(oldSum)\n",
        "    print(\"Sales Taxes:\",(round((ceil(round(newSum, 2) * rnd) / rnd)-oldSum,2)))  \n",
        "    print(\"Total:\",(ceil(round(newSum, 2) * rnd) / rnd))\n",
        "           \n",
        "            \n",
        "#itemlist = ['1 imported bottle of perfume at 27.99','1 bottle of perfume at 18.99','1 packet of headache pills at 9.75','1 box of imported chocolates at 11.25']        \n",
        "itemlist=[];\n",
        "while True:\n",
        "  t= input()\n",
        "  if(t== ''):\n",
        "    break\n",
        "  itemlist.append(t)\n",
        "salesTax(itemlist)"
      ]
    },
    {
      "cell_type": "code",
      "source": [
        ""
      ],
      "metadata": {
        "id": "uY1fcczsChCJ"
      },
      "execution_count": null,
      "outputs": []
    }
  ]
}